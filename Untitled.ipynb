{
 "cells": [
  {
   "cell_type": "code",
   "execution_count": 1,
   "id": "4d0e4f3d",
   "metadata": {},
   "outputs": [],
   "source": [
    "import pandas as pd"
   ]
  },
  {
   "cell_type": "code",
   "execution_count": 2,
   "id": "ae82aed5",
   "metadata": {},
   "outputs": [],
   "source": [
    "import json"
   ]
  },
  {
   "cell_type": "code",
   "execution_count": 54,
   "id": "1e3a0b9a",
   "metadata": {},
   "outputs": [],
   "source": [
    "fileObject = open(\"data/resources/exercises_database.json\", \"r\")\n",
    "jsonContent = fileObject.read()"
   ]
  },
  {
   "cell_type": "code",
   "execution_count": 55,
   "id": "941c44ec",
   "metadata": {
    "scrolled": true
   },
   "outputs": [],
   "source": [
    "ex_json = json.loads(jsonContent)"
   ]
  },
  {
   "cell_type": "code",
   "execution_count": 56,
   "id": "23d59d05",
   "metadata": {},
   "outputs": [
    {
     "data": {
      "text/plain": [
       "{'name': 'Single-Leg Press',\n",
       " 'details': {'type': 'Strength',\n",
       "  'main_muscle': 'Quadriceps',\n",
       "  'equipment': 'Machine'},\n",
       " 'video': 'single-leg_press.mp4',\n",
       " 'images': {'image_1': 'single-leg_press_1.jpg',\n",
       "  'image_2': 'single-leg_press_2.jpg',\n",
       "  'image_1_url': 'https://www.bodybuilding.com/exercises/exerciseImages/sequences/3941/Male/m/3941_2.jpg',\n",
       "  'image_2_url': 'https://www.bodybuilding.com/exercises/exerciseImages/sequences/3941/Male/m/3941_1.jpg'},\n",
       " 'instructions': '1. Load the sled to an appropriate weight. Seat yourself on the machine, planting one foot on the platform in line with your hip. Your free foot can be placed on the ground. Maintain good spinal position with your head and chest up.\\n2. Supporting the weight, fully extend the knee and unlock the sled. This will be your starting position.\\n3. Lower the weight by flexing the hip and knee, continuing as far as flexibility allows. Do not allow your lumbar to take the load by moving your pelvis.\\n4. At the bottom of the motion pause briefly and then return to the starting position by extending the hip and knee.\\n5. Complete all repetitions for one leg before switching to the other.\\n',\n",
       " 'alternative': ['One Leg Barbell Squat']}"
      ]
     },
     "execution_count": 56,
     "metadata": {},
     "output_type": "execute_result"
    }
   ],
   "source": [
    "ex_json[1]"
   ]
  },
  {
   "cell_type": "code",
   "execution_count": 60,
   "id": "f0313d70",
   "metadata": {},
   "outputs": [],
   "source": [
    "types = set()"
   ]
  },
  {
   "cell_type": "code",
   "execution_count": 61,
   "id": "285f7fed",
   "metadata": {},
   "outputs": [],
   "source": [
    "for item in ex_json:\n",
    "    types.add(item[\"details\"][\"main_muscle\"])"
   ]
  },
  {
   "cell_type": "code",
   "execution_count": 62,
   "id": "91517619",
   "metadata": {},
   "outputs": [
    {
     "data": {
      "text/plain": [
       "{'Abdominals',\n",
       " 'Abductors',\n",
       " 'Adductors',\n",
       " 'Biceps',\n",
       " 'Calves',\n",
       " 'Chest',\n",
       " 'Forearms',\n",
       " 'Glutes',\n",
       " 'Hamstrings',\n",
       " 'Lats',\n",
       " 'Lower Back',\n",
       " 'Middle Back',\n",
       " 'Neck',\n",
       " 'Quadriceps',\n",
       " 'Shoulders',\n",
       " 'Traps',\n",
       " 'Triceps'}"
      ]
     },
     "execution_count": 62,
     "metadata": {},
     "output_type": "execute_result"
    }
   ],
   "source": [
    "types"
   ]
  },
  {
   "cell_type": "code",
   "execution_count": null,
   "id": "5c0fc399",
   "metadata": {},
   "outputs": [],
   "source": []
  }
 ],
 "metadata": {
  "kernelspec": {
   "display_name": "Python 3 (ipykernel)",
   "language": "python",
   "name": "python3"
  },
  "language_info": {
   "codemirror_mode": {
    "name": "ipython",
    "version": 3
   },
   "file_extension": ".py",
   "mimetype": "text/x-python",
   "name": "python",
   "nbconvert_exporter": "python",
   "pygments_lexer": "ipython3",
   "version": "3.9.5"
  }
 },
 "nbformat": 4,
 "nbformat_minor": 5
}
